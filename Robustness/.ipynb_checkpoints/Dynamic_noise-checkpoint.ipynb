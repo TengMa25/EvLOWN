{
 "cells": [
  {
   "cell_type": "markdown",
   "id": "d2118b42-4e07-416e-be01-55dc1a4b7546",
   "metadata": {},
   "source": [
    "# Robustness test"
   ]
  },
  {
   "cell_type": "code",
   "execution_count": 1,
   "id": "f7ed6d36-2c74-4150-8fe0-1c30345d2582",
   "metadata": {},
   "outputs": [],
   "source": [
    "# Import useful library\n",
    "\n",
    "import numpy as np\n",
    "import pandas as pd\n",
    "from scipy.integrate import odeint\n",
    "import matplotlib.pyplot as plt\n",
    "import matplotlib as mpl\n",
    "import random\n",
    "random.seed(71415)"
   ]
  },
  {
   "cell_type": "markdown",
   "id": "2decb4d2-0357-47f4-972e-c3bee2f339c7",
   "metadata": {},
   "source": [
    "## Weakly nonlinear oscillators\n",
    "\n",
    "1. Harmonic oscillator\n",
    "$$\n",
    "\\ddot{x} + 0.01 \\dot{x}+  10x = 0 \\\\ \\tag{1}\n",
    "$$\n",
    "2. Van der pol oscillator\n",
    "$$\n",
    "\\ddot{x} - 0.01 (1-2x^2) \\dot{x}+  10x = 0 \\\\ \\tag{2}\n",
    "$$   \n",
    "3. Duffeling oscillator\n",
    "$$\n",
    "\\ddot{x} + 0.01 (\\dot{x}+2x^3) +  10x = 0 \\\\ \\tag{3}\n",
    "$$\n",
    "7. Weakly coupled oscillator"
   ]
  },
  {
   "cell_type": "code",
   "execution_count": 2,
   "id": "153c48b1-ec5f-47ee-9149-ea5195a26155",
   "metadata": {},
   "outputs": [],
   "source": [
    "# Governing equations of weakly nonlinear oscillators\n",
    "\n",
    "def harmonic(x,t):\n",
    "    dxdt = [x[1], -10*x[0]-0.01*(x[1])]\n",
    "    return dxdt\n",
    "\n",
    "def vanderpol(x,t):\n",
    "    dxdt = [x[1], -10*x[0]-0.01*(2*x[0]**2-1)*x[1]]\n",
    "    return dxdt\n",
    "\n",
    "def duffel(x,t):\n",
    "    dxdt = [x[1], -10*x[0]-0.01*(x[1]+2*x[0]**3)]\n",
    "    return dxdt\n",
    "\n",
    "\n",
    "ODEs = {\"harmonic\": harmonic, \"vanderpol\": vanderpol, \"duffel\": duffel}\n",
    "initials = {\"harmonic\": [5,0], \"vanderpol\": [0.1,0], \"duffel\": [5,0]}"
   ]
  },
  {
   "cell_type": "code",
   "execution_count": 3,
   "id": "12c0d5a6-0059-4182-b9dd-5c3a127a03da",
   "metadata": {},
   "outputs": [],
   "source": [
    "# Basic parameters of simulation\n",
    "\n",
    "Fs = 100 # sampling frequency \n",
    "T = 1000 # simulating time\n",
    "t = np.linspace(0,T,T*Fs)"
   ]
  },
  {
   "cell_type": "code",
   "execution_count": 4,
   "id": "0d6f00fb-0507-493b-88ff-480284fb76a4",
   "metadata": {},
   "outputs": [],
   "source": [
    "# Ground Truth\n",
    "for ode in ODEs.keys():\n",
    "    response = odeint(ODEs[ode], y0 = initials[ode], t = t)\n",
    "    GT = pd.DataFrame(response[:,0])\n",
    "    GT.to_csv('./Data/GroundTruth/%s.csv'%ode)\n",
    "    "
   ]
  },
  {
   "cell_type": "markdown",
   "id": "e4814f51-e7f9-4328-836a-c46e76e66e8e",
   "metadata": {},
   "source": [
    "## Scared data\n",
    "Here we considerd four types of unavoidable uncertaintis in observation data, including observational, dynamic noises and under-sampling.\n",
    "\n",
    "1. observational noise $\\alpha$\n",
    "    $$y(t) = x(t)+\\alpha N(0,1)$$\n",
    "2. dynamic noise $\\eta$\n",
    "    $$\\ddot{x}+ \\epsilon f(x,\\dot{x}) +\\omega_0^2 x + \\eta AdW(t)=0$$\n",
    "3. under sampling\n"
   ]
  },
  {
   "cell_type": "code",
   "execution_count": 5,
   "id": "d8209c37-88e0-456a-9d3b-3c327d739e91",
   "metadata": {},
   "outputs": [],
   "source": [
    "# Add observation noise\n",
    "def add_observation_noise(y,SNR):\n",
    "    N = len(y)\n",
    "    noise = np.random.randn(N)\n",
    "    P_d = np.sum(abs(noise)**2)\n",
    "    P_signal = np.sum(abs(y)**2)\n",
    "    P_noise = P_signal/10**(SNR/10.0)\n",
    "    noise = np.sqrt(P_noise/P_d)*noise\n",
    "    return noise + y\n",
    "\n",
    "def simulate_observationnoise(ODE, y0, t, SNR, num_trails):\n",
    "    response = odeint(ODE, y0 = y0,t = t)\n",
    "    GroundTruth = response[:,0]\n",
    "    Observations = np.zeros([len(GroundTruth), num_trails])\n",
    "    for i in range(num_trails):\n",
    "        Observations[:,i] = add_observation_noise(GroundTruth, SNR)\n",
    "    return GroundTruth, Observations"
   ]
  },
  {
   "cell_type": "markdown",
   "id": "a929ea75-c12b-45b3-b24f-4e7b567bd67f",
   "metadata": {},
   "source": [
    "## Metrics\n",
    "\n",
    "1. NED(normalized Euclidean distance)\n",
    "   \n",
    "Normalized Euclidean distance is the metric which can evaluate the discrepancy between true dynamics and predicted dynamic.\n",
    "$$\n",
    "NED(x,\\hat{x}) = \\frac{1}{D_{max}(T-t_0)}\\sum_{t=t_0}^T \\sqrt{(x(t)-\\hat{x}(t))^2}\n",
    "$$\n",
    "where $x,\\dot{x}$ is true dynamics and $\\hat{x}, \\dot{\\hat{x}}$ is predicted dynamics; $t_0$ and $T$ are the beginning and ending times, respectively; and $D_{max}$ is the longest Euclidean distance in whole trajectory.\n",
    "\n",
    "2. FR(failure ratio)\n",
    "\n",
    "Failure ratio is the metric which can evaluate the ratio of algorithm discover the governing equations of dynamics correctly. The correct discovery is defined as the non-zero candidate function is same with ground truth or its linear dependent candidate.\n",
    "\n",
    "$$\n",
    "FR = \\frac{N_c}{N}\n",
    "$$\n",
    "where $N_c$ is correct discovery times and $N$ is total simulation times.\n",
    "\n",
    "\n",
    "3. sMAPE(symmetric mean absolute percentage error)\n",
    "   \n",
    "Symmetric mean absolute percentage error is quantify the discovery inaccuracy. \n",
    "\n",
    "$$\n",
    "sMAPE = \\frac{1}{k} \\sum_{i=1}^{k} \\frac{|D_i-R_i|}{|D_i| + |R_i|}\n",
    "$$\n",
    "where $k$ is number of candidate functions, $D_i, R_i$ is the discoverd and true coefficients, respectively.\n",
    "\n"
   ]
  },
  {
   "cell_type": "code",
   "execution_count": 6,
   "id": "bf1674e9-d9ab-4183-9059-3aac2b70b0d6",
   "metadata": {},
   "outputs": [],
   "source": [
    "def NED(GT,PRE):\n",
    "    D_max = GT.max() - GT.min()\n",
    "    return np.sum(np.abs(PRE - GT))/D_max\n",
    "\n",
    "def FR(GT_coefs, PRE_coefs):\n",
    "    for i in range(len(GT_coefs[0])):\n",
    "        GT_coef = GT_coefs[:,i]\n",
    "        if (np.where(GT_coef != 0)[0] == np.where(PRE_coefs != 0)[0]).all():\n",
    "            return 1\n",
    "    return 0\n",
    "\n",
    "def sMAPE(GT_coefs, PRE_coefs):\n",
    "    diffs = []\n",
    "    for i in range(len(GT_coefs[0])):\n",
    "        GT_coef = GT_coefs[:,i]\n",
    "        mape = np.sum(np.abs(GT_coef - PRE_coefs))/(np.sum(np.abs(GT_coef)) + np.sum(np.abs(PRE_coefs)))/len(GT_coef)\n",
    "        diffs.append(mape)\n",
    "    return np.min(diffs)\n",
    "    "
   ]
  },
  {
   "cell_type": "markdown",
   "id": "6b9ee2fe-2d61-4edb-9a85-2179e2c55afd",
   "metadata": {},
   "source": [
    "### Linear dependence in evolutionary library\n",
    "\n",
    "Several candidate functions in library are linear dependent when their coeffienct is weak. Here is an example $x^2\\dot{x}$ and $\\dot{x}^3$.\n",
    "\n",
    "Firstly, we derive the contributions of $x^2\\dot{x}$ and $\\dot{x}^3$ on evolution space by method of average:\n",
    "\n",
    "$$\n",
    "\\Phi_A(x^2\\dot{x}) =-\\frac{1}{2\\pi \\omega_0}\\int_0^{2\\pi} \\cos(\\phi) (x^2\\dot{x})d\\phi = -\\frac{1}{2\\pi \\omega_0}\\int_0^{2\\pi} \\cos(\\phi) (A\\sin(\\phi))^2 A\\omega_0\\cos(\\phi)d\\phi = \\frac{0.75 A^3}{2\\pi}\n",
    "$$\n",
    "$$\n",
    "\\Phi_{\\beta}(x^2\\dot{x}) =-\\frac{1}{2A\\pi \\omega_0}\\int_0^{2\\pi} \\sin(\\phi) (x^2\\dot{x})d\\phi = -\\frac{1}{2A\\pi \\omega_0}\\int_0^{2\\pi} \\sin(\\phi) (A\\sin(\\phi))^2 A\\omega_0\\cos(\\phi)d\\phi = 0\n",
    "$$\n",
    "$$\n",
    "\\Phi_A(\\dot{x}^3) =-\\frac{1}{2\\pi \\omega_0}\\int_0^{2\\pi} \\cos(\\phi) (\\dot{x}^3)d\\phi = -\\frac{1}{2\\pi \\omega_0}\\int_0^{2\\pi} \\cos(\\phi) (A\\omega_0\\cos(\\phi))^3 d\\phi = \\frac{0.25\\omega_0^2 A^3}{2\\pi}\n",
    "$$\n",
    "$$\n",
    "\\Phi_{\\beta}(\\dot{x}^3) =-\\frac{1}{2A\\pi \\omega_0}\\int_0^{2\\pi} \\sin(\\phi) (\\dot{x}^3)d\\phi = -\\frac{1}{2A\\pi \\omega_0}\\int_0^{2\\pi} \\sin(\\phi) (A\\omega_0\\cos(\\phi))^3d\\phi = 0\n",
    "$$\n",
    "\n",
    "It can be clearly seen that candidate $x^2\\dot{x}$ and $\\dot{x}^3$ are linear dependent, that means $\\omega_0^2x^2\\dot{x}$ and $3\\dot{x}^3$ are totally equivalent for a weakly nonlinear oscillator $\\ddot{x}+\\epsilon\\phi(x,\\dot{x})+\\omega_0^2x=0$. To prove that, we simulate the weakly nonlinear oscillator with parameter $\\epsilon = -1e-2$ and $\\omega_0 = 10$.\n",
    "\n",
    "To weakly nonlinear oscillators, we treat these linear dependent candidates are equivalent. When we validate our results, $\\ddot{x}-0.01(3\\omega_0^2x^2\\dot{x})+\\omega_0^2x=0$ and $\\ddot{x}-0.01(\\dot{x}^3)+\\omega_0^2x=0$ are both correct.\n",
    "\n"
   ]
  },
  {
   "cell_type": "code",
   "execution_count": 7,
   "id": "29f30e5d-c451-4112-9e2f-4816047bf9f2",
   "metadata": {},
   "outputs": [
    {
     "data": {
      "text/plain": [
       "Text(0.5, 1.0, 'Linear dependence in library example')"
      ]
     },
     "execution_count": 7,
     "metadata": {},
     "output_type": "execute_result"
    },
    {
     "data": {
      "image/png": "[encoded data removed]",
      "text/plain": [
       "<Figure size 700x300 with 1 Axes>"
      ]
     },
     "metadata": {},
     "output_type": "display_data"
    }
   ],
   "source": [
    "def WND1(x,t):\n",
    "    dxdt = [x[1], -10*x[0]-0.01*10*3*(x[0]**2*x[1])]\n",
    "    return dxdt\n",
    "\n",
    "def WND2(x,t):\n",
    "    dxdt = [x[1], -10*x[0]-0.01*(x[1]**3)]\n",
    "    return dxdt\n",
    "\n",
    "\n",
    "x0_LCO = [1,0]\n",
    "response1 = odeint(WND1, y0 = x0_LCO,t = t)\n",
    "response2 = odeint(WND2, y0 = x0_LCO,t = t)\n",
    "fig,axes = plt.subplots(1,1,figsize = (7,3))\n",
    "axes.plot(t, response1[:,0], lw = 0.2, alpha = 1, label = \"$\\ddot{x}-\\epsilon(3\\omega_0^2x^2\\dot{x})+\\omega_0^2x=0$\")\n",
    "axes.plot(t, response2[:,0], lw = 0.2, alpha = 0.8, label = \"$\\ddot{x}-\\epsilon(\\dot{x}^3)+\\omega_0^2x=0$\")\n",
    "axes.plot(t, response1[:,0] - response2[:,0] ,lw = 0.5, label = \"Difference\")\n",
    "axes.set_xlim(0,T)\n",
    "plt.legend()\n",
    "axes.set_title(\"Linear dependence in library example\")"
   ]
  },
  {
   "cell_type": "markdown",
   "id": "22725350-167f-4a45-a974-398ca5db3ae7",
   "metadata": {},
   "source": [
    "### Find equivalent form of ground truth\n",
    "\n",
    "In order to evaluate the algorithm performance appropriately, we need to consider the equivalent form of ground truth. If algorithm discovers the equivalent form from data, it's also accurate governing equation for weakly nonlinear oscillator. The equivalent form \n"
   ]
  },
  {
   "cell_type": "code",
   "execution_count": 8,
   "id": "d6cb5370-381a-4f54-be22-a2ff06e32ef6",
   "metadata": {},
   "outputs": [
    {
     "data": {
      "text/plain": [
       "[<matplotlib.lines.Line2D at 0x1dc650534d0>]"
      ]
     },
     "execution_count": 8,
     "metadata": {},
     "output_type": "execute_result"
    },
    {
     "data": {
      "image/png": "[encoded data removed]",
      "text/plain": [
       "<Figure size 640x480 with 1 Axes>"
      ]
     },
     "metadata": {},
     "output_type": "display_data"
    }
   ],
   "source": [
    "response = odeint(duffel, y0 = [5,0],t = t)\n",
    "GroundTruth = response[:,0]\n",
    "Observation = add_observation_noise(GroundTruth,40)\n",
    "# Observation2 = add_observation_noise(GroundTruth, 30)\n",
    "plt.plot(t,Observation)\n",
    "# plt.plot(t,GroundTruth)"
   ]
  },
  {
   "cell_type": "code",
   "execution_count": 9,
   "id": "a99a8b69-a26e-4ccd-9d96-ee19a492e5dc",
   "metadata": {},
   "outputs": [],
   "source": [
    "import sys\n",
    "sys.path.append(\"../Model\")\n",
    "import Model\n",
    "library = [\n",
    "    lambda x:x[0],\n",
    "    lambda x:x[0]*x[0],\n",
    "    lambda x:x[0]*x[0]*x[0],\n",
    "    lambda x:x[0]*x[0]*x[0]*x[0],\n",
    "    lambda x:x[0]*x[0]*x[0]*x[0]*x[0],\n",
    "    lambda x:x[1],\n",
    "    lambda x:x[1]*x[1],\n",
    "    lambda x:x[1]*x[1]*x[1],\n",
    "    lambda x:x[1]*x[1]*x[1]*x[1],\n",
    "    lambda x:x[1]*x[1]*x[1]*x[1]*x[1],\n",
    "    lambda x:x[0]*x[1],\n",
    "    lambda x:x[0]*x[0]*x[1],\n",
    "    lambda x:x[0]*x[1]*x[1],\n",
    "    lambda x:x[0]*x[0]*x[0]*x[1],\n",
    "    lambda x:x[0]*x[0]*x[1]*x[1],\n",
    "    lambda x:x[0]*x[1]*x[1]*x[1],\n",
    "    lambda x:x[0]*x[0]*x[0]*x[0]*x[1],\n",
    "    lambda x:x[0]*x[0]*x[0]*x[1]*x[1],\n",
    "    lambda x:x[0]*x[0]*x[1]*x[1]*x[1],\n",
    "    lambda x:x[0]*x[1]*x[1]*x[1]*x[1],\n",
    "]\n",
    "library_name = [\n",
    "    lambda x:x[0],\n",
    "    lambda x:x[0]+x[0],\n",
    "    lambda x:x[0]+x[0]+x[0],\n",
    "    lambda x:x[0]+x[0]+x[0]+x[0],\n",
    "    lambda x:x[0]+x[0]+x[0]+x[0]+x[0],\n",
    "    lambda x:x[1],\n",
    "    lambda x:x[1]+x[1],\n",
    "    lambda x:x[1]+x[1]+x[1],\n",
    "    lambda x:x[1]+x[1]+x[1]+x[1],\n",
    "    lambda x:x[1]+x[1]+x[1]+x[1]+x[1],\n",
    "    lambda x:x[0]+x[1],\n",
    "    lambda x:x[0]+x[0]+x[1],\n",
    "    lambda x:x[0]+x[1]+x[1],\n",
    "    lambda x:x[0]+x[0]+x[0]+x[1],\n",
    "    lambda x:x[0]+x[0]+x[1]+x[1],\n",
    "    lambda x:x[0]+x[1]+x[1]+x[1],\n",
    "    lambda x:x[0]+x[0]+x[0]+x[0]+x[1],\n",
    "    lambda x:x[0]+x[0]+x[0]+x[1]+x[1],\n",
    "    lambda x:x[0]+x[0]+x[1]+x[1]+x[1],\n",
    "    lambda x:x[0]+x[1]+x[1]+x[1]+x[1],\n",
    "]\n",
    "dim = 1\n",
    "feature_length = len(library)\n",
    "model = Model.WeakNO(dim,library,library_name)"
   ]
  },
  {
   "cell_type": "code",
   "execution_count": null,
   "id": "e34f4deb-3843-41c7-ad2e-f366f679e8c7",
   "metadata": {
    "scrolled": true
   },
   "outputs": [
    {
     "name": "stdout",
     "output_type": "stream",
     "text": [
      "duffel\n",
      "noise 100B, Trails: 0\n",
      "x0'' + 9.999281e+00x0 + 9.968402e-03x0' + 6.025764e-03x0x0'x0' = 0\n",
      "\n",
      "noise 100B, Trails: 1\n",
      "x0'' + 9.999281e+00x0 + 2.028849e-02x0x0x0 + 9.968401e-03x0' = 0\n",
      "\n",
      "noise 100B, Trails: 2\n",
      "x0'' + 9.999281e+00x0 + 2.028848e-02x0x0x0 + 9.968403e-03x0' = 0\n",
      "\n",
      "noise 100B, Trails: 3\n",
      "x0'' + 9.999281e+00x0 + 9.968402e-03x0' + 6.025761e-03x0x0'x0' = 0\n",
      "\n"
     ]
    }
   ],
   "source": [
    "# Observation_noise_simulation 100 times\n",
    "Observation_noises = np.linspace(100,10,10)\n",
    "save_path = \"./Data/Observation_noise/\"\n",
    "num_trail = 100\n",
    "ODEs = {\"duffel\": duffel}\n",
    "initials = {\"duffel\": [5,0]}\n",
    "\n",
    "for ode in ODEs.keys():\n",
    "    print(ode)\n",
    "    Coef_GT = np.array(pd.read_csv('./Data/GroundTruth/%s_coefficient.csv'%ode,index_col = 0))\n",
    "    for noise in Observation_noises:\n",
    "        NEDs = np.zeros(num_trail)\n",
    "        FRs = np.zeros(num_trail)\n",
    "        sMAPEs = np.zeros(num_trail)\n",
    "        Coefs = np.zeros([num_trail, feature_length])\n",
    "        GT, data = simulate_observationnoise(ODEs[ode], initials[ode], t, noise, num_trail)\n",
    "        for i in range(num_trail):\n",
    "            model.Get_frequency(data[:,i].reshape(-1,1),t)\n",
    "            model.Get_Evolution(smooth_window = 1)\n",
    "            model.Library_rebuild()\n",
    "            model.optimize(sparse_threshold = 0.05,\n",
    "                           stop_tolerance = 1e-4,\n",
    "                           step_tolerance=  1e-6,\n",
    "                           w_A2b=1,\n",
    "                           smooth_window=10)\n",
    "            Coefs[i,:] = - model.Xi[0]\n",
    "            Coefs[i,0] = model.Xi[0,0] - model.frequencys[0]**2\n",
    "            def WND_model(x,t):\n",
    "                Phi = np.zeros(len(model.library))\n",
    "                for i in range(len(model.library)):\n",
    "                    Phi[i] = model.library[i](x)\n",
    "                dxdt = [x[1], -model.frequencys[0]**2*x[0]-np.sum(Phi*model.Xi[0])]\n",
    "                return dxdt\n",
    "            predictions = odeint(WND_model, y0 = initials[ode],t = t)\n",
    "            # NEDs[i] = NED(GT, predictions[:,0])\n",
    "            # FRs[i] = FR(Coef_GT, Coefs[i,:])\n",
    "            # sMAPEs[i] = sMAPE(Coef_GT, Coefs[i,:])\n",
    "            print(\"noise %dB, Trails: %d\"%(noise, i))\n",
    "            print(model)\n",
    "        pd.DataFrame(Coefs).to_csv('./Result/%s_%ddB_coefpredict.csv'%(ode,noise))\n",
    "        # pd.DataFrame(NEDs).to_csv('./Result/%s_%ddB_NEDs.csv'%(ode,noise))\n",
    "        # pd.DataFrame(FRs).to_csv('./Result/%s_%ddB_FRs.csv'%(ode,noise))\n",
    "        # pd.DataFrame(sMAPEs).to_csv('./Result/%s_%ddB_sMAPEs.csv'%(ode,noise))\n",
    "        # print(\"noise:%.2f, NED:%.3f, FR: %.3f, sMAPE: %.3f\"%(noise, np.mean(NEDs), np.mean(FRs), np.mean(sMAPEs)))\n",
    "        \n",
    "        \n",
    "            \n",
    "                        \n",
    "\n",
    "        # import pandas as pd\n",
    "        # data = pd.DataFrame(data)\n",
    "        # data.to_csv('%s%s_%ddB.csv'%(save_path, ode, noise))\n",
    "        "
   ]
  },
  {
   "cell_type": "code",
   "execution_count": null,
   "id": "9400bdbb-d9a7-4c8b-b2ff-ebeb81cd51e5",
   "metadata": {},
   "outputs": [],
   "source": []
  }
 ],
 "metadata": {
  "kernelspec": {
   "display_name": "Python 3 (ipykernel)",
   "language": "python",
   "name": "python3"
  },
  "language_info": {
   "codemirror_mode": {
    "name": "ipython",
    "version": 3
   },
   "file_extension": ".py",
   "mimetype": "text/x-python",
   "name": "python",
   "nbconvert_exporter": "python",
   "pygments_lexer": "ipython3",
   "version": "3.11.7"
  }
 },
 "nbformat": 4,
 "nbformat_minor": 5
}
