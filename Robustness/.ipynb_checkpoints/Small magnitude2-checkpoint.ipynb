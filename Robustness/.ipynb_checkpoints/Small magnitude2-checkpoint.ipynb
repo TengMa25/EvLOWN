{
 "cells": [
  {
   "cell_type": "code",
   "execution_count": 1,
   "id": "6a6b0223-6fdb-4be0-8210-c4d43e275715",
   "metadata": {},
   "outputs": [],
   "source": [
    "import numpy as np\n",
    "import pandas as pd\n",
    "from scipy.integrate import odeint\n",
    "import matplotlib.pyplot as plt\n",
    "import matplotlib as mpl\n",
    "import pysindy as ps\n",
    "import gc\n",
    "import random\n",
    "random.seed(71415)"
   ]
  },
  {
   "cell_type": "code",
   "execution_count": 2,
   "id": "316e2c46-d8a8-4e80-adb8-0b8c5d1a4cb2",
   "metadata": {},
   "outputs": [],
   "source": [
    "# Governing equations of weakly nonlinear oscillators\n",
    "\n",
    "def harmonic(x,t,e):\n",
    "    dxdt = [x[1], -10*x[0]-e*(x[1])]\n",
    "    return dxdt\n",
    "\n",
    "def vanderpol(x,t,e):\n",
    "    dxdt = [x[1], -10*x[0]-e*(2*x[0]**2-1)*x[1]]\n",
    "    return dxdt\n",
    "\n",
    "def duffel(x,t,e):\n",
    "    dxdt = [x[1], -10*x[0]-e*(x[1]+2*x[0]**3)]\n",
    "    return dxdt\n",
    "\n",
    "def weaklycoupled(x,t,e):\n",
    "    dxdt = [x[1], -10*x[0]-e*x[2], x[3], -10*x[2]-e*x[0]]\n",
    "    return dxdt    \n",
    "\n",
    "\n",
    "ODEs = {\"vanderpol\": vanderpol}\n",
    "initials = {\"harmonic\": [5,0], \"vanderpol\": [0.1,0], \"duffel\": [5,0]}\n",
    "\n"
   ]
  },
  {
   "cell_type": "code",
   "execution_count": 3,
   "id": "ffb54e70-3686-4fc5-85db-2cc905a28009",
   "metadata": {},
   "outputs": [],
   "source": [
    "def add_observation_noise(y,SNR):\n",
    "    N = len(y)\n",
    "    noise = np.random.randn(N)\n",
    "    P_d = np.sum(abs(noise)**2)\n",
    "    P_signal = np.sum(abs(y)**2)\n",
    "    P_noise = P_signal/10**(SNR/10.0)\n",
    "    noise = np.sqrt(P_noise/P_d)*noise\n",
    "    return noise + y\n",
    "def simulate_observationnoise(ODE, y0, t, SNR, num_trails,e):\n",
    "    response = odeint(ODE, y0 = y0,t = t,args=(e,))\n",
    "    GroundTruth = response[:,0]\n",
    "    Observations = np.zeros([len(GroundTruth), num_trails])\n",
    "    for i in range(num_trails):\n",
    "        Observations[:,i] = add_observation_noise(GroundTruth, SNR)\n",
    "        \n",
    "    return GroundTruth, Observations"
   ]
  },
  {
   "cell_type": "code",
   "execution_count": 4,
   "id": "1a043b30-0f50-4e37-9d0a-f138b64de27f",
   "metadata": {},
   "outputs": [],
   "source": [
    "Fs = 10 # sampling frequency \n",
    "T = [100,200,500,850,2500,5000,10000,20000,40000,90000]\n",
    "e = np.logspace(-1,-4,10)\n",
    "noises = range(60,15,-5) # dB\n",
    "num_trail = 100"
   ]
  },
  {
   "cell_type": "code",
   "execution_count": 5,
   "id": "96e2cefd-d3f6-4f35-8e57-eb65811be45f",
   "metadata": {},
   "outputs": [
    {
     "data": {
      "text/plain": [
       "[<matplotlib.lines.Line2D at 0x295582c1c90>]"
      ]
     },
     "execution_count": 5,
     "metadata": {},
     "output_type": "execute_result"
    },
    {
     "data": {
      "image/png": "[encoded data removed]",
      "text/plain": [
       "<Figure size 640x480 with 1 Axes>"
      ]
     },
     "metadata": {},
     "output_type": "display_data"
    }
   ],
   "source": [
    "i = 6\n",
    "t = np.linspace(0,int(T[i]),int(T[i]*Fs))\n",
    "response = odeint(vanderpol, y0 =[0.1,0],t = t,args=(e[i],))\n",
    "plt.plot(t,response[:,0])"
   ]
  },
  {
   "cell_type": "code",
   "execution_count": 6,
   "id": "e052ada4-18a3-4e1d-aa11-bafaeaab351e",
   "metadata": {},
   "outputs": [],
   "source": [
    "import sys\n",
    "sys.path.append(\"../Model\")\n",
    "import Model\n",
    "library = [\n",
    "    lambda x:x[0],\n",
    "    lambda x:x[1],\n",
    "    lambda x:x[0]*x[0],\n",
    "    lambda x:x[0]*x[1],\n",
    "    lambda x:x[1]*x[1],\n",
    "    lambda x:x[0]*x[0]*x[0],\n",
    "    lambda x:x[0]*x[0]*x[1],\n",
    "    lambda x:x[0]*x[1]*x[1],\n",
    "    lambda x:x[1]*x[1]*x[1],\n",
    "    lambda x:x[0]*x[0]*x[0]*x[0],\n",
    "    lambda x:x[0]*x[0]*x[0]*x[1],\n",
    "    lambda x:x[0]*x[0]*x[1]*x[1],\n",
    "    lambda x:x[0]*x[1]*x[1]*x[1],\n",
    "    lambda x:x[1]*x[1]*x[1]*x[1],\n",
    "    lambda x:x[0]*x[0]*x[0]*x[0]*x[0],\n",
    "    lambda x:x[0]*x[0]*x[0]*x[0]*x[1],\n",
    "    lambda x:x[0]*x[0]*x[0]*x[1]*x[1],\n",
    "    lambda x:x[0]*x[0]*x[1]*x[1]*x[1],\n",
    "    lambda x:x[0]*x[1]*x[1]*x[1]*x[1],\n",
    "    lambda x:x[1]*x[1]*x[1]*x[1]*x[1],\n",
    "]\n",
    "library_name = [\n",
    "    lambda x:x[0],\n",
    "    lambda x:x[1],\n",
    "    lambda x:x[0]+x[0],\n",
    "    lambda x:x[0]+x[1],\n",
    "    lambda x:x[1]+x[1],\n",
    "    lambda x:x[0]+x[0]+x[0],\n",
    "    lambda x:x[0]+x[0]+x[1],\n",
    "    lambda x:x[0]+x[1]+x[1],\n",
    "    lambda x:x[1]+x[1]+x[1],\n",
    "    lambda x:x[0]+x[0]+x[0]+x[0],\n",
    "    lambda x:x[0]+x[0]+x[0]+x[1],\n",
    "    lambda x:x[0]+x[0]+x[1]+x[1],\n",
    "    lambda x:x[0]+x[1]+x[1]+x[1],\n",
    "    lambda x:x[1]+x[1]+x[1]+x[1],\n",
    "    lambda x:x[0]+x[0]+x[0]+x[0]+x[0],\n",
    "    lambda x:x[0]+x[0]+x[0]+x[0]+x[1],\n",
    "    lambda x:x[0]+x[0]+x[0]+x[1]+x[1],\n",
    "    lambda x:x[0]+x[0]+x[1]+x[1]+x[1],\n",
    "    lambda x:x[0]+x[1]+x[1]+x[1]+x[1],\n",
    "    lambda x:x[1]+x[1]+x[1]+x[1]+x[1], \n",
    "]\n",
    "dim = 1\n",
    "feature_length = len(library)\n",
    "model = Model.WeakNO(dim,library,library_name)"
   ]
  },
  {
   "cell_type": "code",
   "execution_count": 7,
   "id": "33ca5da0-74c1-41f7-835e-00bc5ae39f64",
   "metadata": {},
   "outputs": [],
   "source": [
    "\n",
    "feature_library = ps.PolynomialLibrary(degree=5)\n",
    "differentiation_method = ps.FiniteDifference(order=2)\n"
   ]
  },
  {
   "cell_type": "code",
   "execution_count": 8,
   "id": "9300380d-1a72-4283-9bb2-b49257c0c2a3",
   "metadata": {},
   "outputs": [
    {
     "name": "stdout",
     "output_type": "stream",
     "text": [
      "0,1,2,3,4,5,6,7,8,9,10,11,12,13,14,15,16,17,18,19,20,21,22,23,24,25,26,27,28,29,30,31,32,33,34,35,36,37,38,39,40,41,"
     ]
    },
    {
     "ename": "KeyboardInterrupt",
     "evalue": "",
     "output_type": "error",
     "traceback": [
      "\u001b[1;31m---------------------------------------------------------------------------\u001b[0m",
      "\u001b[1;31mKeyboardInterrupt\u001b[0m                         Traceback (most recent call last)",
      "Cell \u001b[1;32mIn[8], line 27\u001b[0m\n\u001b[0;32m     25\u001b[0m model\u001b[38;5;241m.\u001b[39mGet_Evolution(smooth_window \u001b[38;5;241m=\u001b[39m \u001b[38;5;241m1\u001b[39m)\n\u001b[0;32m     26\u001b[0m model\u001b[38;5;241m.\u001b[39mLibrary_rebuild()\n\u001b[1;32m---> 27\u001b[0m model\u001b[38;5;241m.\u001b[39moptimize(sparse_threshold \u001b[38;5;241m=\u001b[39m \u001b[38;5;241m0.1\u001b[39m,\n\u001b[0;32m     28\u001b[0m                stop_tolerance \u001b[38;5;241m=\u001b[39m \u001b[38;5;241m1e-3\u001b[39m,\n\u001b[0;32m     29\u001b[0m                step_tolerance\u001b[38;5;241m=\u001b[39m  \u001b[38;5;241m1e-5\u001b[39m,\n\u001b[0;32m     30\u001b[0m                smooth_window \u001b[38;5;241m=\u001b[39m \u001b[38;5;241m1\u001b[39m,\n\u001b[0;32m     31\u001b[0m                w_A2b\u001b[38;5;241m=\u001b[39m\u001b[38;5;241m5\u001b[39m)\n\u001b[0;32m     32\u001b[0m Coef_our[j,:] \u001b[38;5;241m=\u001b[39m \u001b[38;5;241m-\u001b[39m model\u001b[38;5;241m.\u001b[39mXi[\u001b[38;5;241m0\u001b[39m]\n\u001b[0;32m     33\u001b[0m Coef_our[j,\u001b[38;5;241m0\u001b[39m] \u001b[38;5;241m=\u001b[39m model\u001b[38;5;241m.\u001b[39mXi[\u001b[38;5;241m0\u001b[39m,\u001b[38;5;241m0\u001b[39m] \u001b[38;5;241m-\u001b[39m model\u001b[38;5;241m.\u001b[39mfrequencys[\u001b[38;5;241m0\u001b[39m]\u001b[38;5;241m*\u001b[39m\u001b[38;5;241m*\u001b[39m\u001b[38;5;241m2\u001b[39m\n",
      "File \u001b[1;32m~\\OneDrive - tongji.edu.cn\\文章\\6. 涡振自由振动识别\\Notebook\\Robustness\\../Model\\Model.py:470\u001b[0m, in \u001b[0;36mWeakNO.optimize\u001b[1;34m(self, sparse_threshold, stop_tolerance, step_tolerance, sparse_max, smooth_window, w_A2b, dot_edge)\u001b[0m\n\u001b[0;32m    467\u001b[0m \u001b[38;5;28mself\u001b[39m\u001b[38;5;241m.\u001b[39mpredict \u001b[38;5;241m=\u001b[39m np\u001b[38;5;241m.\u001b[39mzeros([\u001b[38;5;241m2\u001b[39m,\u001b[38;5;28mself\u001b[39m\u001b[38;5;241m.\u001b[39mdims,\u001b[38;5;28mlen\u001b[39m(\u001b[38;5;28mself\u001b[39m\u001b[38;5;241m.\u001b[39mt_evolutions)])\n\u001b[0;32m    468\u001b[0m \u001b[38;5;66;03m# Xi = np.zeros(self.dims,len(self.library))\u001b[39;00m\n\u001b[1;32m--> 470\u001b[0m \u001b[38;5;28mself\u001b[39m\u001b[38;5;241m.\u001b[39mdot_evolution(dot_edge)\n\u001b[0;32m    471\u001b[0m dt \u001b[38;5;241m=\u001b[39m \u001b[38;5;28mself\u001b[39m\u001b[38;5;241m.\u001b[39mt_evolutions[\u001b[38;5;241m1\u001b[39m] \u001b[38;5;241m-\u001b[39m \u001b[38;5;28mself\u001b[39m\u001b[38;5;241m.\u001b[39mt_evolutions[\u001b[38;5;241m0\u001b[39m]\n\u001b[0;32m    472\u001b[0m X_librarys \u001b[38;5;241m=\u001b[39m []\n",
      "File \u001b[1;32m~\\OneDrive - tongji.edu.cn\\文章\\6. 涡振自由振动识别\\Notebook\\Robustness\\../Model\\Model.py:450\u001b[0m, in \u001b[0;36mWeakNO.dot_evolution\u001b[1;34m(self, dot_edge)\u001b[0m\n\u001b[0;32m    448\u001b[0m omega_i \u001b[38;5;241m=\u001b[39m \u001b[38;5;28mself\u001b[39m\u001b[38;5;241m.\u001b[39mfrequencys[i]\n\u001b[0;32m    449\u001b[0m dt \u001b[38;5;241m=\u001b[39m \u001b[38;5;28mself\u001b[39m\u001b[38;5;241m.\u001b[39mt[\u001b[38;5;241m1\u001b[39m]\u001b[38;5;241m-\u001b[39m\u001b[38;5;28mself\u001b[39m\u001b[38;5;241m.\u001b[39mt[\u001b[38;5;241m0\u001b[39m]\n\u001b[1;32m--> 450\u001b[0m amplitude_i, phase_i \u001b[38;5;241m=\u001b[39m instantaneous_evolution(\u001b[38;5;28mself\u001b[39m\u001b[38;5;241m.\u001b[39mdata[:,i],np\u001b[38;5;241m.\u001b[39msin(\u001b[38;5;28mself\u001b[39m\u001b[38;5;241m.\u001b[39mt\u001b[38;5;241m*\u001b[39momega_i))\n\u001b[0;32m    451\u001b[0m T \u001b[38;5;241m=\u001b[39m \u001b[38;5;241m2\u001b[39m\u001b[38;5;241m*\u001b[39mnp\u001b[38;5;241m.\u001b[39mpi\u001b[38;5;241m/\u001b[39momega_i\n\u001b[0;32m    452\u001b[0m t_real \u001b[38;5;241m=\u001b[39m np\u001b[38;5;241m.\u001b[39mlinspace(\u001b[38;5;241m0\u001b[39m,\u001b[38;5;28mself\u001b[39m\u001b[38;5;241m.\u001b[39mt[\u001b[38;5;241m-\u001b[39m\u001b[38;5;241m1\u001b[39m],\u001b[38;5;28mint\u001b[39m(\u001b[38;5;28mlen\u001b[39m(\u001b[38;5;28mself\u001b[39m\u001b[38;5;241m.\u001b[39mt)\u001b[38;5;241m/\u001b[39m(T\u001b[38;5;241m/\u001b[39mdt)),endpoint \u001b[38;5;241m=\u001b[39m \u001b[38;5;28;01mFalse\u001b[39;00m)\n",
      "\u001b[1;31mKeyboardInterrupt\u001b[0m: "
     ]
    }
   ],
   "source": [
    "# fig, ax = plt.subplots(1, 1, figsize=(8, 4))\n",
    "import pysindy as ps\n",
    "noises = range(60,15,-5)\n",
    "#different numerical examples\n",
    "for ode in ODEs.keys():\n",
    "    # We simulate the system for different values of small magnitude\n",
    "    for noise in noises:\n",
    "        for i in range(10):\n",
    "            t = np.linspace(0,int(T[i]),int(T[i]*Fs))\n",
    "        # add noise\n",
    "        \n",
    "            GT, Obverse = simulate_observationnoise(ODEs[ode], initials[ode], t, noise, num_trail,e[i])\n",
    "            Coef_our = np.zeros([num_trail, feature_length])\n",
    "            Coef_STLSQ = np.zeros([num_trail, feature_length])\n",
    "            Coef_essemble = np.zeros([num_trail, feature_length])\n",
    "            Coef_SR3 = np.zeros([num_trail, feature_length])\n",
    "            for j in range(num_trail):\n",
    "                # print(j,end=',')\n",
    "                obverse = Obverse[:,j]\n",
    "                # finite difference for velocity\n",
    "                velocity = np.gradient(obverse, t,edge_order = 2)\n",
    "                model = Model.WeakNO(dim,library,library_name)\n",
    "                # our model\n",
    "                model.Get_frequency(obverse.reshape(-1,1),t)\n",
    "                model.Get_Evolution(smooth_window = 1)\n",
    "                model.Library_rebuild()\n",
    "                model.optimize(sparse_threshold = 0.1,\n",
    "                               stop_tolerance = 1e-3,\n",
    "                               step_tolerance=  1e-5,\n",
    "                               smooth_window = 1,\n",
    "                               w_A2b=5)\n",
    "                Coef_our[j,:] = - model.Xi[0]\n",
    "                Coef_our[j,0] = model.Xi[0,0] - model.frequencys[0]**2\n",
    "                # print(Coef_our[j])\n",
    "                # second_order_obverse = np.array([obverse,velocity]).T\n",
    "                # # print(Coef_our[j])\n",
    "                # # SINDY-STLSQ\n",
    "                # optimizer_STLSQ = ps.STLSQ(threshold=0.5*e[i])\n",
    "                # optimizer_SR = ps.SR3(threshold=0.5*e[i],nu=1)\n",
    "                # SINDY = ps.SINDy(\n",
    "                # differentiation_method=differentiation_method,\n",
    "                # feature_library=feature_library,\n",
    "                # optimizer=optimizer_STLSQ,\n",
    "                # feature_names=[\"x\", \"x'\"],\n",
    "                # )\n",
    "                # SINDY.fit(second_order_obverse,t=t)\n",
    "                # Coef_STLSQ[j,:] = SINDY.coefficients()[1,1:]\n",
    "                # # print(Coef_STLSQ[j,:])\n",
    "                # # SINDY-esemble\n",
    "                # SINDY = ps.SINDy(\n",
    "                # differentiation_method=differentiation_method,\n",
    "                # feature_library=feature_library,\n",
    "                # optimizer=optimizer_STLSQ,\n",
    "                # feature_names=[\"x\", \"x'\"],\n",
    "                # )\n",
    "                # SINDY.fit(second_order_obverse,t=t,ensemble=True, quiet=True)\n",
    "                # Coef_essemble[j,:] = SINDY.coefficients()[1,1:]\n",
    "                # # print(Coef_essemble[j,:])\n",
    "                # # SINDY-SR3\n",
    "                # SINDY = ps.SINDy(\n",
    "                # differentiation_method=differentiation_method,\n",
    "                # feature_library=feature_library,\n",
    "                # optimizer=optimizer_SR,\n",
    "                # feature_names=[\"x\", \"x'\"],\n",
    "                # )\n",
    "                # SINDY.fit(second_order_obverse,t=t)\n",
    "                # Coef_SR3[j,:] = SINDY.coefficients()[1,1:]\n",
    "                # print(Coef_SR3[j,:])\n",
    "                del(obverse)\n",
    "                del(velocity)\n",
    "                # del(second_order_obverse)\n",
    "                gc.collect()\n",
    "            pd.DataFrame(Coef_our).to_csv('./Result/Coef3/our_%s_%ddB_%d_coefpredict.csv'%(ode,noise,i))\n",
    "            # pd.DataFrame(Coef_STLSQ).to_csv('./Result/Coef1/STLSQ_%s_%ddB_%d_coefpredict.csv'%(ode,noise,i))\n",
    "            # pd.DataFrame(Coef_essemble).to_csv('./Result/Coef1/essemble_%s_%ddB_%d_coefpredict.csv'%(ode,noise,i))\n",
    "            # pd.DataFrame(Coef_SR3).to_csv('./Result/Coef1/SR3_%s_%ddB_%d_coefpredict.csv'%(ode,noise,i))\n",
    "            print(\"ODE:%s_Noise:%d_magnitude:%d\"%(ode,noise,i))\n",
    "            del(GT)\n",
    "            del(Obverse)\n",
    "            gc.collect()"
   ]
  },
  {
   "cell_type": "code",
   "execution_count": null,
   "id": "3ef0e505-4c75-463f-aeed-f0cd8ad9e026",
   "metadata": {},
   "outputs": [],
   "source": []
  },
  {
   "cell_type": "code",
   "execution_count": null,
   "id": "e9a2f1c1-ee23-4d30-9e20-f1a9569c8da4",
   "metadata": {},
   "outputs": [],
   "source": []
  }
 ],
 "metadata": {
  "kernelspec": {
   "display_name": "Python 3 (ipykernel)",
   "language": "python",
   "name": "python3"
  },
  "language_info": {
   "codemirror_mode": {
    "name": "ipython",
    "version": 3
   },
   "file_extension": ".py",
   "mimetype": "text/x-python",
   "name": "python",
   "nbconvert_exporter": "python",
   "pygments_lexer": "ipython3",
   "version": "3.11.7"
  }
 },
 "nbformat": 4,
 "nbformat_minor": 5
}
